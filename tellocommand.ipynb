{
 "cells": [
  {
   "cell_type": "code",
   "execution_count": 1,
   "metadata": {},
   "outputs": [],
   "source": [
    "import threading \n",
    "import socket\n",
    "import sys\n",
    "import time\n",
    "import platform\n",
    "import cv2"
   ]
  },
  {
   "cell_type": "code",
   "execution_count": 2,
   "metadata": {},
   "outputs": [],
   "source": [
    "class Drone:\n",
    "    is_connected=False\n",
    "    \n",
    "    VS_UDP_IP = '0.0.0.0'\n",
    "    VS_UDP_PORT = 11111\n",
    "    STATE_UDP_PORT = 8890\n",
    "    #video capture object\n",
    "    \n",
    "    cap=None\n",
    "    stream_on = False\n",
    "\n",
    "    def __init__(self):\n",
    "        self.host = ''\n",
    "        self.port = 9000\n",
    "        self.locaddr = (self.host,self.port)\n",
    "        self.sock = socket.socket(socket.AF_INET, socket.SOCK_DGRAM)\n",
    "        self.tello_address = ('192.168.10.1', 8889)\n",
    "        self.sock.bind(self.locaddr)\n",
    "    \n",
    "    def command(self,command):\n",
    "        \n",
    "        self.msg=command\n",
    "        self.is_connected=\"true\"\n",
    "        self.msg = self.msg.encode(encoding=\"utf-8\") \n",
    "        sent = self.sock.sendto(self.msg, self.tello_address)\n",
    "        print(\"Message sent to Tello\"+str(self.msg))\n",
    "        data, server = self.sock.recvfrom(1518)\n",
    "        print(data.decode(encoding=\"utf-8\"))\n",
    "            \n",
    "        return sent\n",
    "    \n",
    "    def connect(self):\n",
    "        \"\"\"connect to tello \"\"\"\n",
    "        return self.command(\"command\")\n",
    "    \n",
    "    def takeoff(self):\n",
    "        \"\"\"tello auto takeoff\"\"\"\n",
    "        \n",
    "        return self.command(\"takeoff\")\n",
    "    \n",
    "    def land(self):\n",
    "        \"\"\"tello auto land\"\"\"\n",
    "        \n",
    "        return self.command(\"land\")\n",
    "    \n",
    "    def battery(self):\n",
    "        \"\"\"tello battery check\"\"\"\n",
    "        \n",
    "        return self.command(\"battery?\")\n",
    "    \n",
    "    def streamon(self):\n",
    "        \"\"\"video streaming is on\"\"\"\n",
    "        \n",
    "        return self.command(\"streamon\")\n",
    "    \n",
    "    def streamoff(self):\n",
    "        \"\"\"video streaming is off\"\"\"\n",
    "        \n",
    "        return self.command(\"streamoff\")\n",
    "    \n",
    "    def rotate_clockwise(self, degree):\n",
    "        \"\"\"tello rotate clockwise degree 1-3600\"\"\"\n",
    "        \n",
    "        return self.command(\"cw\"+' '+str(degree))\n",
    "    \n",
    "    def rotate_anticlockwise(self,degree):\n",
    "        \"\"\"tello rotate anticlockwise degree 1-3600\"\"\"\n",
    "        \n",
    "        return self.command(\"ccw\"+' '+str(degree))\n",
    "    \n",
    "    def emergency(self):\n",
    "        \"\"\"emergency land - shut down all motors\"\"\"\n",
    "        \n",
    "        return self.command(\"emergency\")\n",
    "    \n",
    "    def right(self,dist):\n",
    "        \"\"\"move right - can move 20-500 cm\"\"\"\n",
    "        \n",
    "        return self.command(\"right\"+' '+str(dist))\n",
    "    \n",
    "    def left(self,dist):\n",
    "        \"\"\"move left - can move 20-500 cm\"\"\"\n",
    "        return self.command(\"left\"+' '+str(dist))\n",
    "    \n",
    "    def forward(self,dist):\n",
    "        \"\"\"move forward - can move 20-500 cm\"\"\"\n",
    "        return self.command(\"forward\"+' '+str(dist))\n",
    "    \n",
    "    def backward(self,dist):\n",
    "        \"\"\"move backward - can move 20-500 cm\"\"\"\n",
    "        return self.command(\"back\"+' '+str(dist))\n",
    "    \n",
    "    def flip_right(self):\n",
    "        \"\"\"flip to right\"\"\"\n",
    "        return self.command(\"flip r\")\n",
    "    \n",
    "    def flip_left(self):\n",
    "        \"\"\"flip to left\"\"\"\n",
    "        return self.commnad(\"flip l\")\n",
    "    \n",
    "    def up(self,dist):\n",
    "        \n",
    "        return self.command(\"up\"+' '+str(dist))\n",
    "    \n",
    "    def down(self,dist):\n",
    "        \n",
    "        return self.command(\"down\"+' '+str(dist))\n",
    "    \n",
    "    def get_udp_video_address(self):\n",
    "        \n",
    "        return 'udp://@' + self.VS_UDP_IP + ':' + str(self.VS_UDP_PORT) \n",
    "    \n",
    "    def get_video_capture(self):\n",
    "        \"\"\"Get the VideoCapture object from the camera drone\n",
    "        Returns:\n",
    "            VideoCapture\n",
    "        \"\"\"\n",
    "        if self.cap is None:\n",
    "            self.cap = cv2.VideoCapture(self.get_udp_video_address())\n",
    "            while(True):\n",
    "                # Capture frame-by-frame\n",
    "                ret, frame = self.cap.read()\n",
    "                \n",
    "                # Display the resulting frame\n",
    "                cv2.imshow('frame',frame)\n",
    "                if cv2.waitKey(1) & 0xFF == ord('q'):\n",
    "                    break\n",
    "            cap.release()\n",
    "            cv2.destroyAllWindows()\n",
    "\n",
    "        if not self.cap.isOpened():\n",
    "            self.cap.open(self.get_udp_video_address())\n",
    "\n",
    "        return self.cap"
   ]
  },
  {
   "cell_type": "code",
   "execution_count": 3,
   "metadata": {},
   "outputs": [],
   "source": [
    "t=Drone()"
   ]
  },
  {
   "cell_type": "code",
   "execution_count": 4,
   "metadata": {},
   "outputs": [
    {
     "name": "stdout",
     "output_type": "stream",
     "text": [
      "Message sent to Tellob'command'\n",
      "ok\n"
     ]
    },
    {
     "data": {
      "text/plain": [
       "7"
      ]
     },
     "execution_count": 4,
     "metadata": {},
     "output_type": "execute_result"
    }
   ],
   "source": [
    "t.connect()"
   ]
  },
  {
   "cell_type": "code",
   "execution_count": 5,
   "metadata": {},
   "outputs": [
    {
     "name": "stdout",
     "output_type": "stream",
     "text": [
      "Message sent to Tellob'streamon'\n",
      "ok\n"
     ]
    },
    {
     "data": {
      "text/plain": [
       "8"
      ]
     },
     "execution_count": 5,
     "metadata": {},
     "output_type": "execute_result"
    }
   ],
   "source": [
    "t.streamon()"
   ]
  },
  {
   "cell_type": "code",
   "execution_count": null,
   "metadata": {},
   "outputs": [],
   "source": [
    "t.get_video_capture()"
   ]
  },
  {
   "cell_type": "code",
   "execution_count": null,
   "metadata": {},
   "outputs": [],
   "source": []
  }
 ],
 "metadata": {
  "kernelspec": {
   "display_name": "Python 3",
   "language": "python",
   "name": "python3"
  },
  "language_info": {
   "codemirror_mode": {
    "name": "ipython",
    "version": 3
   },
   "file_extension": ".py",
   "mimetype": "text/x-python",
   "name": "python",
   "nbconvert_exporter": "python",
   "pygments_lexer": "ipython3",
   "version": "3.7.3"
  }
 },
 "nbformat": 4,
 "nbformat_minor": 2
}
